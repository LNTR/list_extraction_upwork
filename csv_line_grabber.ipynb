{
 "cells": [
  {
   "cell_type": "code",
   "execution_count": 3,
   "metadata": {},
   "outputs": [],
   "source": [
    "import pandas as pd\n",
    "import os\n",
    "\n",
    "csv_file_list=os.listdir(\"./csv/\")\n",
    "out_csv=open(\"out.csv\",\"w\",encoding=\"utf-8\")\n",
    "for csv_file in csv_file_list:\n",
    "    file_number=csv_file.split(\".csv\")[0]\n",
    "    df=pd.read_csv(f\"./csv/{csv_file}\")\n",
    "    out_csv.write(f\"{file_number},{len(df)}\\n\")\n",
    "\n",
    "out_csv.close()\n"
   ]
  }
 ],
 "metadata": {
  "kernelspec": {
   "display_name": "throw_away_env",
   "language": "python",
   "name": "python3"
  },
  "language_info": {
   "codemirror_mode": {
    "name": "ipython",
    "version": 3
   },
   "file_extension": ".py",
   "mimetype": "text/x-python",
   "name": "python",
   "nbconvert_exporter": "python",
   "pygments_lexer": "ipython3",
   "version": "3.10.9"
  },
  "orig_nbformat": 4
 },
 "nbformat": 4,
 "nbformat_minor": 2
}
