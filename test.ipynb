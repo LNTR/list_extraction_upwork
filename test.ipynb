{
 "cells": [
  {
   "cell_type": "code",
   "execution_count": 2,
   "metadata": {},
   "outputs": [],
   "source": [
    "from bs4 import BeautifulSoup\n",
    "import re\n",
    "pattern=re.compile(r\"Tel: \\d \\(\\d\\d\\d\\).*<br>\")"
   ]
  },
  {
   "cell_type": "code",
   "execution_count": 3,
   "metadata": {},
   "outputs": [],
   "source": [
    "\n",
    "pattern_list=[\n",
    "            re.compile(r\"Tel:\\s?\\d\\s?\\(\\d\\d\\d\\).*\\n\",re.IGNORECASE),\n",
    "            re.compile(r\"Fax:\\s?\\d\\s?\\(\\d\\d\\d\\).*\\n\",re.IGNORECASE),\n",
    "            re.compile(r\"E\\-?mail:.+\\n\",re.IGNORECASE),\n",
    "            re.compile(r\"Website:\",re.IGNORECASE)]\n",
    "\n",
    "def get_body_data_dict(soup):\n",
    "    p=str(soup.find(\"p\"))\n",
    "    match_list=[]\n",
    "    for pattern in pattern_list:\n",
    "        pattern_match=pattern.search(p)\n",
    "        if pattern_match:\n",
    "            match_value=pattern_match.group(0)\n",
    "            p=p.replace(match_value,\"\")\n",
    "            match_list.append(match_value)\n",
    "        else:\n",
    "            match_list.append(None)\n",
    "\n",
    "    address_soup=BeautifulSoup(p,\"lxml\")\n",
    "    match_list.append(address_soup.text)\n",
    "\n",
    "    return match_list"
   ]
  },
  {
   "cell_type": "code",
   "execution_count": 9,
   "metadata": {},
   "outputs": [
    {
     "name": "stdout",
     "output_type": "stream",
     "text": [
      "<html><body><div class=\"\" style=\"position: relative;\"><p style=\"text-align: left;\">Hugh G. O’Neill &amp; Co</p></div></body></html>\n"
     ]
    }
   ],
   "source": [
    "from bs4 import BeautifulSoup\n",
    "html=\"\"\"\n",
    "<div class=\"\" style=\"position: relative;\"><p style=\"text-align: left;\">Hugh G. O’Neill &amp; Co</p></div>\"\"\"\n",
    "\n",
    "soup=BeautifulSoup(html,\"lxml\")\n",
    "\n",
    "print(soup)\n"
   ]
  },
  {
   "cell_type": "code",
   "execution_count": 5,
   "metadata": {},
   "outputs": [
    {
     "data": {
      "text/plain": [
       "[<re.Match object; span=(0, 21), match='te_ssa5qqst@gmail.com'>]"
      ]
     },
     "execution_count": 5,
     "metadata": {},
     "output_type": "execute_result"
    }
   ],
   "source": [
    "email_pattern=re.compile(r\"^[\\w\\-.]+@([\\w-]+\\.)+[\\w-]{2,4}$\")\n",
    "list(email_pattern.finditer(\"te_ssa5qqst@gmail.com\"))"
   ]
  }
 ],
 "metadata": {
  "kernelspec": {
   "display_name": "throw_away_env",
   "language": "python",
   "name": "python3"
  },
  "language_info": {
   "codemirror_mode": {
    "name": "ipython",
    "version": 3
   },
   "file_extension": ".py",
   "mimetype": "text/x-python",
   "name": "python",
   "nbconvert_exporter": "python",
   "pygments_lexer": "ipython3",
   "version": "3.10.9"
  },
  "orig_nbformat": 4
 },
 "nbformat": 4,
 "nbformat_minor": 2
}
