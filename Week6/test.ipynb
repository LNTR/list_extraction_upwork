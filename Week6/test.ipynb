{
 "cells": [
  {
   "cell_type": "code",
   "execution_count": 1,
   "metadata": {},
   "outputs": [
    {
     "name": "stdout",
     "output_type": "stream",
     "text": [
      "https://www.dobs.pa.gov/For%20Media/Pages/2023-Enforcement-Orders.aspx\n"
     ]
    }
   ],
   "source": [
    "import requests\n",
    "\n",
    "\n",
    "\n",
    "BASE_URL=\"https://www.dobs.pa.gov\"\n",
    "URL=f\"{BASE_URL}/For%20Media/Pages/2023-Enforcement-Orders.aspx\"\n",
    "\n",
    "session = requests.Session()\n",
    "\n",
    "session.headers.update(\n",
    "    {\n",
    "    \"User-Agent\": \"Mozilla/5.0 (Windows NT 10.0; Win64; x64; rv:109.0) Gecko/20100101 Firefox/114.0\",\n",
    "}\n",
    "    )\n",
    "\n",
    "response=session.get(URL)\n",
    "print(response.url)\n",
    "\n",
    "with open(\"test.html\",\"w\",encoding=\"utf-8\") as f:\n",
    "    f.write(response.text)\n"
   ]
  },
  {
   "cell_type": "code",
   "execution_count": 1,
   "metadata": {},
   "outputs": [
    {
     "name": "stdout",
     "output_type": "stream",
     "text": [
      "11/23/2022\n"
     ]
    }
   ],
   "source": [
    "url=\"/Documents/Enforcement%20Orders/2022/112322%20FTX%20Lend%20Inc%20CAO_Redacted.pdf\"\n",
    "file_name=url.split(\"/\")[-1]\n",
    "month=file_name[:2]\n",
    "day=file_name[2:4]\n",
    "year=url.split(\"/\")[-2]\n",
    "print(f\"{month}/{day}/{year}\")\n"
   ]
  }
 ],
 "metadata": {
  "kernelspec": {
   "display_name": "throw_away_env",
   "language": "python",
   "name": "python3"
  },
  "language_info": {
   "codemirror_mode": {
    "name": "ipython",
    "version": 3
   },
   "file_extension": ".py",
   "mimetype": "text/x-python",
   "name": "python",
   "nbconvert_exporter": "python",
   "pygments_lexer": "ipython3",
   "version": "3.10.9"
  },
  "orig_nbformat": 4
 },
 "nbformat": 4,
 "nbformat_minor": 2
}
