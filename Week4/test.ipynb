{
 "cells": [
  {
   "cell_type": "code",
   "execution_count": 13,
   "metadata": {},
   "outputs": [
    {
     "name": "stdout",
     "output_type": "stream",
     "text": [
      "{'fritekstCommand': {'soegOrd': '*', 'sideIndex': '0', 'enhedstype': '', 'kommune': [], 'region': [], 'antalAnsatte': [], 'virksomhedsform': [], 'virksomhedsstatus': [], 'virksomhedsmarkering': [], 'personrolle': [], 'startdatoFra': '', 'startdatoTil': '', 'ophoersdatoFra': '', 'ophoersdatoTil': '', 'branchekode': '', 'size': ['10'], 'sortering': ''}}\n"
     ]
    }
   ],
   "source": [
    "\n",
    "import json\n",
    "\n",
    "print(json.loads(\"{\\\"fritekstCommand\\\":{\\\"soegOrd\\\":\\\"*\\\",\\\"sideIndex\\\":\\\"0\\\",\\\"enhedstype\\\":\\\"\\\",\\\"kommune\\\":[],\\\"region\\\":[],\\\"antalAnsatte\\\":[],\\\"virksomhedsform\\\":[],\\\"virksomhedsstatus\\\":[],\\\"virksomhedsmarkering\\\":[],\\\"personrolle\\\":[],\\\"startdatoFra\\\":\\\"\\\",\\\"startdatoTil\\\":\\\"\\\",\\\"ophoersdatoFra\\\":\\\"\\\",\\\"ophoersdatoTil\\\":\\\"\\\",\\\"branchekode\\\":\\\"\\\",\\\"size\\\":[\\\"10\\\"],\\\"sortering\\\":\\\"\\\"}}\"))\n"
   ]
  },
  {
   "cell_type": "code",
   "execution_count": 1,
   "metadata": {},
   "outputs": [],
   "source": [
    "import requests\n",
    "\n",
    "session=requests.Session()\n",
    "\n",
    "session.cookies.set(\"SSESS8ee4375d263296b8b92ca3d4e8bdaf43\", \"ATXEH69rtxGDGdkGZxmp7nsBUXv4yKq6fb2ly7alAjk\", domain=\".dja-prd-ecexap1.kingcounty.gov\")\n",
    "response=session.get(\"https://dja-prd-ecexap1.kingcounty.gov/?q=node/411\")\n",
    "\n",
    "with open(\"test.html\",\"w\",encoding=\"utf-8\") as f:\n",
    "    f.write(response.text)\n"
   ]
  },
  {
   "cell_type": "code",
   "execution_count": 2,
   "metadata": {},
   "outputs": [],
   "source": [
    "import requests\n",
    "\n",
    "session=requests.Session()\n",
    "\n",
    "session.headers.update(\n",
    "    {\n",
    "    \"User-Agent\": \"Mozilla/5.0 (Windows NT 10.0; Win64; x64; rv:109.0) Gecko/20100101 Firefox/114.0\",\n",
    "    \"Accept\": \"text/html,application/xhtml+xml,application/xml;q=0.9,image/avif,image/webp,*/*;q=0.8\",}\n",
    "    )\n",
    "\n",
    "response=session.get(\"https://or.justice.cz/ias/ui/rejstrik-$firma?p%3A%3Asubmit=x&.%2Frejstrik-%24firma=&nazev=___&ico=&obec=&ulice=&forma=&oddil=&vlozka=&soud=&polozek=500&typHledani=STARTS_WITH&jenPlatne=PLATNE&typHledaniSpolku=ALL\")\n",
    "\n",
    "with open(\"test.html\",\"w\",encoding=\"utf-8\") as f:\n",
    "    f.write(response.text)\n"
   ]
  },
  {
   "cell_type": "code",
   "execution_count": 12,
   "metadata": {},
   "outputs": [
    {
     "name": "stdout",
     "output_type": "stream",
     "text": [
      "17576\n"
     ]
    }
   ],
   "source": [
    "import itertools\n",
    "print(len(list(itertools.product(list(\"abcdefghijklmnopqrstuvwxyz\"),repeat=3))))\n",
    "# for letter_sequence in itertools.combinations(list(\"abcdefghijklmnopqrstuvwxyz\"),3):\n",
    "#     pattern=''.join(letter_sequence)\n",
    "#     print(pattern)\n",
    "\n"
   ]
  },
  {
   "cell_type": "code",
   "execution_count": 16,
   "metadata": {},
   "outputs": [
    {
     "name": "stdout",
     "output_type": "stream",
     "text": [
      "<RequestsCookieJar[]>\n"
     ]
    }
   ],
   "source": [
    "import cloudscraper\n",
    "payload={'fritekstCommand': {'soegOrd': '*', 'sideIndex': '0', 'enhedstype': '', 'kommune': [], 'region': [], 'antalAnsatte': [], 'virksomhedsform': [], 'virksomhedsstatus': [], 'virksomhedsmarkering': [], 'personrolle': [], 'startdatoFra': '', 'startdatoTil': '', 'ophoersdatoFra': '', 'ophoersdatoTil': '', 'branchekode': '', 'size': ['10'], 'sortering': ''}}\n",
    "\n",
    "scraper = cloudscraper.create_scraper(delay=10,debug=True)\n",
    "response = scraper.get(\"https://datacvr.virk.dk/gateway/soeg/fritekst\")\n",
    "with open(\"test.html\",\"w\",encoding=\"utf-8\") as f:\n",
    "    f.write(response.text)"
   ]
  },
  {
   "cell_type": "markdown",
   "metadata": {},
   "source": []
  }
 ],
 "metadata": {
  "kernelspec": {
   "display_name": "throw_away_env",
   "language": "python",
   "name": "python3"
  },
  "language_info": {
   "codemirror_mode": {
    "name": "ipython",
    "version": 3
   },
   "file_extension": ".py",
   "mimetype": "text/x-python",
   "name": "python",
   "nbconvert_exporter": "python",
   "pygments_lexer": "ipython3",
   "version": "3.10.9"
  },
  "orig_nbformat": 4
 },
 "nbformat": 4,
 "nbformat_minor": 2
}
