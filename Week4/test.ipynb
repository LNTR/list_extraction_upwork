{
 "cells": [
  {
   "cell_type": "code",
   "execution_count": 22,
   "metadata": {},
   "outputs": [
    {
     "name": "stdout",
     "output_type": "stream",
     "text": [
      "  Disclosure of information on measure imposed on credit institution   Supervisory measure owing to breaches identified in the area of consumer lending   Information on person responsible for breach  Business name and registered office of legal person  Banka Intesa Sanpaolo d.d., Pristaniška ulica  14, 6502  Koper  Information on breach  Description of circumstances and conduct entailing a breach of the ZPotK -21 and the  ZBan -32  Banka Slovenije conducted an inspection of the bank  in the area of consumer lending from the perspective of compliance with the ZPotK -2. The inspection identified breaches of the ZPotK -2 and the ZBan -3 with regard to advertising, training in connection with credit agreements for real estate, and the management of business records, as proceeds in detail from the order on the rectification of  breaches.  Nature of identified breaches  In entering into credit agreements the bank  failed to act as required by the ZPotK -2, having failed when advertising in connection with credit agreements that contain an interest rate or other information in connection with the costs of credit to display the information in the form of a representat ive example, and having failed to provide training for staff providing services in connection with credit agreements for real estate.  It was also found that the bank  fails to provide for business records in connection with statements of early repayments o f credit that would allow the supervisory authority to verify the bank ’s compliance with the ZPotK -2.  Operational part of order on rectification of breaches  1. On the basis of an inspection conducted at Banka Intesa Sanpaolo d.d., of Pristaniška ulica  14, 6502  Koper (hereinafter: the bank ) with regard to the bank ’s compliance with the ZPotK -2 in the area of consumer lending, Banka Slovenije finds the bank  to have breached:   a) the third paragraph in connection with the second paragraph of Article 6 of the  ZPotK -2, by failing to display information in the form of a representative example when advertising in connection with a credit agreement that contains an interest rate or other information in connection with the costs of credit;   b) the first paragraph of A rticle 61 of the ZPotK -2, by failing to provide regular training for all staff as defined in point 19 of Article 2 of the ZPotK -2, and the fourth paragraph of Article 61 of the ZPotK -2, by failing to provide regular training for staff transacting with cons umers falling into difficulties in connection with arrears in the payment of past -due liabilities from credit agreements for real estate;   c) Article 188 of the ZBan -3, by failing to organise its operations and to keep its books of account, business documenta tion and other administrative and/or business records current such that it is possible to verify at any time whether the bank is operating in accordance with the regulations referred to in the second paragraph of Article 9 of the aforementioned act in conn ection with Article 13 of the ZPotK -2, as it fails to store and fails to provide for the compilation or redisclosure of the statement of early repayment of credit that make evident the fee for the compilation of the statement in cases when a housing loan w as repaid by new credit                                                       1 Consumer Credit Act  (Official Gazette of the Republic of Slovenia, Nos. 77/16 and 92/21 [ZBan -3]. 2 Banking Act (Official Gazette of the Republic of Slovenia, Nos. 92/21 and 123/21 [ZBNIP].  \n"
     ]
    }
   ],
   "source": [
    "from PyPDF2 import PdfReader\n",
    "from io import BytesIO\n",
    "import requests\n",
    "\n",
    "response=requests.get(\"https://www.bsi.si/ckfinder/connector?command=Proxy&lang=en&type=Files&currentFolder=%2FFinan%C4%8Dna%20stabilnost%2FNADZORNI%C5%A0KA%20RAZKRITJA-ostalo%2FUKREPI%2F&hash=6ce6c512ea433a7fc5c8841628e7696cd0ff7f2b&fileName=Objava%20ukrepov%2020_%206_%202023-ENG.pdf\")\n",
    "pdf_context=response.content\n",
    "\n",
    "\n",
    "stream=BytesIO(pdf_context)\n",
    "reader = PdfReader(stream)\n",
    "\n",
    "page = reader.pages[0]\n",
    "print(page.extract_text().replace(\"\\n\",\"\"))\n",
    "\n"
   ]
  },
  {
   "cell_type": "code",
   "execution_count": 14,
   "metadata": {},
   "outputs": [
    {
     "name": "stdout",
     "output_type": "stream",
     "text": [
      "{'/Type': '/Page', '/Parent': IndirectObject(2, 0, 2346949078432), '/Resources': {'/Font': {'/F1': IndirectObject(5, 0, 2346949078432), '/F2': IndirectObject(7, 0, 2346949078432), '/F3': IndirectObject(9, 0, 2346949078432)}, '/ProcSet': ['/PDF', '/Text', '/ImageB', '/ImageC', '/ImageI']}, '/MediaBox': [0, 0, 595.32, 841.92], '/Contents': IndirectObject(4, 0, 2346949078432), '/Group': {'/Type': '/Group', '/S': '/Transparency', '/CS': '/DeviceRGB'}, '/Tabs': '/S', '/StructParents': 0}\n"
     ]
    }
   ],
   "source": [
    "from PyPDF2 import PdfReader\n",
    "import re\n",
    "\n",
    "head_pattern=re.compile(r\"Business name and registered office of legal person\")\n",
    "foot_pattern=re.compile(r\"Information on breach\")\n",
    "\n",
    "reader = PdfReader(\"test.pdf\")\n",
    "\n",
    "# page = reader.pages[0]\n",
    "# page_text=page.extract_text().replace(\"\\n\",\"\")\n",
    "\n",
    "for page in reader.pages:\n",
    "    print(page)\n",
    "# starting_index=head_pattern.search(page_text).end()\n",
    "# ending_index=foot_pattern.search(page_text).start()\n",
    "\n",
    "# print(page_text[starting_index+1:ending_index])\n",
    "\n"
   ]
  },
  {
   "cell_type": "code",
   "execution_count": 4,
   "metadata": {},
   "outputs": [
    {
     "name": "stdout",
     "output_type": "stream",
     "text": [
      "https://www.ajpes.si/eInsolv/rezultati.asp?podrobno=0&stStevilka=&dolznik=_&naslovDolznika=&maticnaStevilka=&davcnaStevilka=&rojstniDatum=&emso=\n",
      "https://www.ajpes.si/eInsolv/rezultati.asp?podrobno=0&stStevilka=&dolznik=_&naslovDolznika=&maticnaStevilka=&davcnaStevilka=&rojstniDatum=&emso=\n",
      "True\n"
     ]
    }
   ],
   "source": [
    "import requests\n",
    "\n",
    "payload={\n",
    "        \"podrobno\":0,\n",
    "        \"stStevilka\":\"\",\t\n",
    "        \"dolznik\":\"_\",\n",
    "        \"naslovDolznika\":\"\",\n",
    "        \"maticnaStevilka\":\"\",\t\n",
    "        \"davcnaStevilka\":\"\",\n",
    "        \"rojstniDatum\":\"\",\n",
    "        \"emso\":\"\",\n",
    "        }\n",
    "url=\"https://www.ajpes.si/eInsolv/rezultati.asp?podrobno=0&stStevilka=&dolznik=_&naslovDolznika=&maticnaStevilka=&davcnaStevilka=&rojstniDatum=&emso=\"\n",
    "\n",
    "response=requests.get(\"https://www.ajpes.si/eInsolv/rezultati.asp\",timeout=None,params=payload)\n",
    "\n",
    "print(response.url)\n",
    "print(url)\n",
    "print(response.url==url)\n",
    "with open(\"test.html\",\"w\",encoding=\"utf-8\") as f:\n",
    "    f.write(response.text)\n"
   ]
  },
  {
   "cell_type": "code",
   "execution_count": null,
   "metadata": {},
   "outputs": [],
   "source": [
    "from bs4 import BeautifulSoup\n",
    "\n",
    "soup=BeautifulSoup(\"\"\"<tr>\t\t\n",
    "\n",
    "\t\t    <td><a href=\"zadeva.asp?st=787/2016\">DOMINGO, trgovina in gostinstvo, d.o.o. - v steÄaju</a></td>\n",
    "\n",
    "            <td>787/2016</td>\t\t    \n",
    "\n",
    "\t\t    <td>5592976000</td>\n",
    "\n",
    "\t\t    <td>41501306</td>\n",
    "\n",
    "\t\t    <td></td>\n",
    "\n",
    "\t\t    <td>steÄajni postopek nad pravno osebo</td>\t\t\t\t\t\t\n",
    "\n",
    "\t    </tr>\t\"\"\",\"lxml\")\n",
    "\n",
    "print(list(soup.tr.children))\n"
   ]
  },
  {
   "cell_type": "markdown",
   "metadata": {},
   "source": [
    "fetch(\"https://dja-prd-ecexap1.kingcounty.gov/?q=node/411&199355=211110\", {\n",
    "  \"headers\": {\n",
    "    \"accept\": \"text/html,application/xhtml+xml,application/xml;q=0.9,image/avif,image/webp,image/apng,*/*;q=0.8,application/signed-exchange;v=b3;q=0.7\",\n",
    "    \"accept-language\": \"en-US,en;q=0.9\",\n",
    "    \"cache-control\": \"max-age=0\",\n",
    "    \"sec-fetch-dest\": \"document\",\n",
    "    \"sec-fetch-mode\": \"navigate\",\n",
    "    \"sec-fetch-site\": \"same-origin\",\n",
    "    \"sec-fetch-user\": \"?1\",\n",
    "    \"upgrade-insecure-requests\": \"1\"\n",
    "  },\n",
    "  \"referrer\": \"https://dja-prd-ecexap1.kingcounty.gov/?q=node/411&199355=211110\",\n",
    "  \"referrerPolicy\": \"strict-origin-when-cross-origin\",\n",
    "  \"body\": null,\n",
    "  \"method\": \"GET\",\n",
    "  \"mode\": \"cors\",\n",
    "  \"credentials\": \"include\"\n",
    "});"
   ]
  },
  {
   "cell_type": "code",
   "execution_count": 1,
   "metadata": {},
   "outputs": [],
   "source": [
    "import requests\n",
    "\n",
    "session=requests.Session()\n",
    "\n",
    "session.cookies.set(\"SSESS8ee4375d263296b8b92ca3d4e8bdaf43\", \"ATXEH69rtxGDGdkGZxmp7nsBUXv4yKq6fb2ly7alAjk\", domain=\".dja-prd-ecexap1.kingcounty.gov\")\n",
    "response=session.get(\"https://dja-prd-ecexap1.kingcounty.gov/?q=node/411\")\n",
    "\n",
    "with open(\"test.html\",\"w\",encoding=\"utf-8\") as f:\n",
    "    f.write(response.text)\n"
   ]
  },
  {
   "cell_type": "code",
   "execution_count": 16,
   "metadata": {},
   "outputs": [
    {
     "name": "stdout",
     "output_type": "stream",
     "text": [
      "<RequestsCookieJar[<Cookie ASP.NET_SessionId=3gcby3uuvkalupnnldib0zig for serviciosenlinea.daco.pr.gov/>]>\n"
     ]
    }
   ],
   "source": [
    "import requests\n",
    "\n",
    "session=requests.Session()\n",
    "response=session.get(\"https://serviciosenlinea.daco.pr.gov/Pages/Public/PortalEntitySearch.aspx?ObjectTypeCode=3027\")\n",
    "\n",
    "\n",
    "with open(\"test.html\",\"w\",encoding=\"utf-8\") as f:\n",
    "    f.write(response.text)\n",
    "\n",
    "print(session.cookies)"
   ]
  }
 ],
 "metadata": {
  "kernelspec": {
   "display_name": "throw_away_env",
   "language": "python",
   "name": "python3"
  },
  "language_info": {
   "codemirror_mode": {
    "name": "ipython",
    "version": 3
   },
   "file_extension": ".py",
   "mimetype": "text/x-python",
   "name": "python",
   "nbconvert_exporter": "python",
   "pygments_lexer": "ipython3",
   "version": "3.10.9"
  },
  "orig_nbformat": 4
 },
 "nbformat": 4,
 "nbformat_minor": 2
}
